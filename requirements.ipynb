{
 "cells": [
  {
   "cell_type": "code",
   "execution_count": null,
   "metadata": {},
   "outputs": [],
   "source": [
    "%pip install -U transformers wandb pandas matplotlib scikit-learn albumentations nltk"
   ]
  },
  {
   "cell_type": "code",
   "execution_count": null,
   "metadata": {},
   "outputs": [],
   "source": [
    "import wandb\n",
    "import os\n",
    "import shutil\n",
    "run = wandb.init(project=\"clip\",\n",
    "           entity='calonca',\n",
    "           name='dataset_download',\n",
    "           )"
   ]
  },
  {
   "cell_type": "code",
   "execution_count": null,
   "metadata": {},
   "outputs": [],
   "source": [
    "artifact = run.use_artifact('calonca/clip/dataset:v0')\n",
    "artifact_dir = artifact.download()\n",
    "shutil.move(os.path.join(artifact_dir,'resized_train.zip'),os.path.join('dataset','resized_train.zip'))"
   ]
  },
  {
   "cell_type": "code",
   "execution_count": 16,
   "metadata": {},
   "outputs": [
    {
     "data": {
      "application/vnd.jupyter.widget-view+json": {
       "model_id": "0f86174f783e4717830786690b4335f2",
       "version_major": 2,
       "version_minor": 0
      },
      "text/plain": [
       "Extracting :   0%|          | 0/83276 [00:00<?, ?it/s]"
      ]
     },
     "metadata": {},
     "output_type": "display_data"
    },
    {
     "name": "stderr",
     "output_type": "stream",
     "text": [
      "wandb: Network error (ConnectionError), entering retry loop.\n"
     ]
    }
   ],
   "source": [
    "# Extract images\n",
    "import zipfile\n",
    "from tqdm.notebook import tqdm\n",
    "zip_dataset_location = os.path.join('dataset', 'resized_train.zip')\n",
    "dataset_extract_location = \"dataset\"\n",
    "\n",
    "\n",
    "with zipfile.ZipFile(zip_dataset_location) as zf:\n",
    "  for member in tqdm(zf.infolist(), desc='Extracting '):\n",
    "    try:\n",
    "        zf.extract(member, dataset_extract_location)\n",
    "    except zipfile.error as e:\n",
    "        pass"
   ]
  }
 ],
 "metadata": {
  "kernelspec": {
   "display_name": "tf",
   "language": "python",
   "name": "python3"
  },
  "language_info": {
   "codemirror_mode": {
    "name": "ipython",
    "version": 3
   },
   "file_extension": ".py",
   "mimetype": "text/x-python",
   "name": "python",
   "nbconvert_exporter": "python",
   "pygments_lexer": "ipython3",
   "version": "3.11.3"
  },
  "orig_nbformat": 4
 },
 "nbformat": 4,
 "nbformat_minor": 2
}
