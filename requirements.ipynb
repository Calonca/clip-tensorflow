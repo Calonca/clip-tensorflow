{
 "cells": [
  {
   "cell_type": "code",
   "execution_count": 1,
   "metadata": {},
   "outputs": [
    {
     "name": "stdout",
     "output_type": "stream",
     "text": [
      "/bin/bash: /home/ale/miniconda3/envs/tf/lib/libtinfo.so.6: no version information available (required by /bin/bash)\n",
      "Looking in indexes: https://pypi.org/simple, https://packagecloud.io/github/git-lfs/pypi/simple\n",
      "Requirement already satisfied: transformers in /home/ale/miniconda3/envs/tf/lib/python3.11/site-packages (4.31.0)\n",
      "Requirement already satisfied: wandb in /home/ale/miniconda3/envs/tf/lib/python3.11/site-packages (0.15.7)\n",
      "Requirement already satisfied: pandas in /home/ale/miniconda3/envs/tf/lib/python3.11/site-packages (2.0.3)\n",
      "Requirement already satisfied: matplotlib in /home/ale/miniconda3/envs/tf/lib/python3.11/site-packages (3.7.2)\n",
      "Requirement already satisfied: scikit-learn in /home/ale/miniconda3/envs/tf/lib/python3.11/site-packages (1.3.0)\n",
      "Requirement already satisfied: albumentations in /home/ale/miniconda3/envs/tf/lib/python3.11/site-packages (1.3.1)\n",
      "Requirement already satisfied: nltk in /home/ale/miniconda3/envs/tf/lib/python3.11/site-packages (3.8.1)\n",
      "Requirement already satisfied: filelock in /home/ale/miniconda3/envs/tf/lib/python3.11/site-packages (from transformers) (3.12.0)\n",
      "Requirement already satisfied: huggingface-hub<1.0,>=0.14.1 in /home/ale/miniconda3/envs/tf/lib/python3.11/site-packages (from transformers) (0.14.1)\n",
      "Requirement already satisfied: numpy>=1.17 in /home/ale/miniconda3/envs/tf/lib/python3.11/site-packages (from transformers) (1.23.5)\n",
      "Requirement already satisfied: packaging>=20.0 in /home/ale/miniconda3/envs/tf/lib/python3.11/site-packages (from transformers) (23.1)\n",
      "Requirement already satisfied: pyyaml>=5.1 in /home/ale/miniconda3/envs/tf/lib/python3.11/site-packages (from transformers) (6.0)\n",
      "Requirement already satisfied: regex!=2019.12.17 in /home/ale/miniconda3/envs/tf/lib/python3.11/site-packages (from transformers) (2023.5.5)\n",
      "Requirement already satisfied: requests in /home/ale/miniconda3/envs/tf/lib/python3.11/site-packages (from transformers) (2.31.0)\n",
      "Requirement already satisfied: tokenizers!=0.11.3,<0.14,>=0.11.1 in /home/ale/miniconda3/envs/tf/lib/python3.11/site-packages (from transformers) (0.13.3)\n",
      "Requirement already satisfied: safetensors>=0.3.1 in /home/ale/miniconda3/envs/tf/lib/python3.11/site-packages (from transformers) (0.3.1)\n",
      "Requirement already satisfied: tqdm>=4.27 in /home/ale/miniconda3/envs/tf/lib/python3.11/site-packages (from transformers) (4.65.0)\n",
      "Requirement already satisfied: Click!=8.0.0,>=7.1 in /home/ale/miniconda3/envs/tf/lib/python3.11/site-packages (from wandb) (8.1.3)\n",
      "Requirement already satisfied: GitPython!=3.1.29,>=1.0.0 in /home/ale/miniconda3/envs/tf/lib/python3.11/site-packages (from wandb) (3.1.31)\n",
      "Requirement already satisfied: psutil>=5.0.0 in /home/ale/miniconda3/envs/tf/lib/python3.11/site-packages (from wandb) (5.9.0)\n",
      "Requirement already satisfied: sentry-sdk>=1.0.0 in /home/ale/miniconda3/envs/tf/lib/python3.11/site-packages (from wandb) (1.24.0)\n",
      "Requirement already satisfied: docker-pycreds>=0.4.0 in /home/ale/miniconda3/envs/tf/lib/python3.11/site-packages (from wandb) (0.4.0)\n",
      "Requirement already satisfied: pathtools in /home/ale/miniconda3/envs/tf/lib/python3.11/site-packages (from wandb) (0.1.2)\n",
      "Requirement already satisfied: setproctitle in /home/ale/miniconda3/envs/tf/lib/python3.11/site-packages (from wandb) (1.3.2)\n",
      "Requirement already satisfied: setuptools in /home/ale/miniconda3/envs/tf/lib/python3.11/site-packages (from wandb) (66.0.0)\n",
      "Requirement already satisfied: appdirs>=1.4.3 in /home/ale/miniconda3/envs/tf/lib/python3.11/site-packages (from wandb) (1.4.4)\n",
      "Requirement already satisfied: protobuf!=4.21.0,<5,>=3.19.0 in /home/ale/miniconda3/envs/tf/lib/python3.11/site-packages (from wandb) (4.23.1)\n",
      "Requirement already satisfied: python-dateutil>=2.8.2 in /home/ale/miniconda3/envs/tf/lib/python3.11/site-packages (from pandas) (2.8.2)\n",
      "Requirement already satisfied: pytz>=2020.1 in /home/ale/miniconda3/envs/tf/lib/python3.11/site-packages (from pandas) (2023.3)\n",
      "Requirement already satisfied: tzdata>=2022.1 in /home/ale/miniconda3/envs/tf/lib/python3.11/site-packages (from pandas) (2023.3)\n",
      "Requirement already satisfied: contourpy>=1.0.1 in /home/ale/miniconda3/envs/tf/lib/python3.11/site-packages (from matplotlib) (1.0.7)\n",
      "Requirement already satisfied: cycler>=0.10 in /home/ale/miniconda3/envs/tf/lib/python3.11/site-packages (from matplotlib) (0.11.0)\n",
      "Requirement already satisfied: fonttools>=4.22.0 in /home/ale/miniconda3/envs/tf/lib/python3.11/site-packages (from matplotlib) (4.39.4)\n",
      "Requirement already satisfied: kiwisolver>=1.0.1 in /home/ale/miniconda3/envs/tf/lib/python3.11/site-packages (from matplotlib) (1.4.4)\n",
      "Requirement already satisfied: pillow>=6.2.0 in /home/ale/miniconda3/envs/tf/lib/python3.11/site-packages (from matplotlib) (9.5.0)\n",
      "Requirement already satisfied: pyparsing<3.1,>=2.3.1 in /home/ale/miniconda3/envs/tf/lib/python3.11/site-packages (from matplotlib) (3.0.9)\n",
      "Requirement already satisfied: scipy>=1.5.0 in /home/ale/miniconda3/envs/tf/lib/python3.11/site-packages (from scikit-learn) (1.10.1)\n",
      "Requirement already satisfied: joblib>=1.1.1 in /home/ale/miniconda3/envs/tf/lib/python3.11/site-packages (from scikit-learn) (1.2.0)\n",
      "Requirement already satisfied: threadpoolctl>=2.0.0 in /home/ale/miniconda3/envs/tf/lib/python3.11/site-packages (from scikit-learn) (3.1.0)\n",
      "Requirement already satisfied: scikit-image>=0.16.1 in /home/ale/miniconda3/envs/tf/lib/python3.11/site-packages (from albumentations) (0.20.0)\n",
      "Requirement already satisfied: qudida>=0.0.4 in /home/ale/miniconda3/envs/tf/lib/python3.11/site-packages (from albumentations) (0.0.4)\n",
      "Requirement already satisfied: opencv-python-headless>=4.1.1 in /home/ale/miniconda3/envs/tf/lib/python3.11/site-packages (from albumentations) (4.7.0.72)\n",
      "Requirement already satisfied: six>=1.4.0 in /home/ale/miniconda3/envs/tf/lib/python3.11/site-packages (from docker-pycreds>=0.4.0->wandb) (1.16.0)\n",
      "Requirement already satisfied: gitdb<5,>=4.0.1 in /home/ale/miniconda3/envs/tf/lib/python3.11/site-packages (from GitPython!=3.1.29,>=1.0.0->wandb) (4.0.10)\n",
      "Requirement already satisfied: fsspec in /home/ale/miniconda3/envs/tf/lib/python3.11/site-packages (from huggingface-hub<1.0,>=0.14.1->transformers) (2023.5.0)\n",
      "Requirement already satisfied: typing-extensions>=3.7.4.3 in /home/ale/miniconda3/envs/tf/lib/python3.11/site-packages (from huggingface-hub<1.0,>=0.14.1->transformers) (4.6.1)\n",
      "Requirement already satisfied: charset-normalizer<4,>=2 in /home/ale/miniconda3/envs/tf/lib/python3.11/site-packages (from requests->transformers) (3.1.0)\n",
      "Requirement already satisfied: idna<4,>=2.5 in /home/ale/miniconda3/envs/tf/lib/python3.11/site-packages (from requests->transformers) (3.4)\n",
      "Requirement already satisfied: urllib3<3,>=1.21.1 in /home/ale/miniconda3/envs/tf/lib/python3.11/site-packages (from requests->transformers) (1.26.16)\n",
      "Requirement already satisfied: certifi>=2017.4.17 in /home/ale/miniconda3/envs/tf/lib/python3.11/site-packages (from requests->transformers) (2023.5.7)\n",
      "Requirement already satisfied: networkx>=2.8 in /home/ale/miniconda3/envs/tf/lib/python3.11/site-packages (from scikit-image>=0.16.1->albumentations) (3.1)\n",
      "Requirement already satisfied: imageio>=2.4.1 in /home/ale/miniconda3/envs/tf/lib/python3.11/site-packages (from scikit-image>=0.16.1->albumentations) (2.29.0)\n",
      "Requirement already satisfied: tifffile>=2019.7.26 in /home/ale/miniconda3/envs/tf/lib/python3.11/site-packages (from scikit-image>=0.16.1->albumentations) (2023.4.12)\n",
      "Requirement already satisfied: PyWavelets>=1.1.1 in /home/ale/miniconda3/envs/tf/lib/python3.11/site-packages (from scikit-image>=0.16.1->albumentations) (1.4.1)\n",
      "Requirement already satisfied: lazy_loader>=0.1 in /home/ale/miniconda3/envs/tf/lib/python3.11/site-packages (from scikit-image>=0.16.1->albumentations) (0.2)\n",
      "Requirement already satisfied: smmap<6,>=3.0.1 in /home/ale/miniconda3/envs/tf/lib/python3.11/site-packages (from gitdb<5,>=4.0.1->GitPython!=3.1.29,>=1.0.0->wandb) (5.0.0)\n",
      "Note: you may need to restart the kernel to use updated packages.\n"
     ]
    }
   ],
   "source": [
    "%pip install -U transformers wandb pandas matplotlib scikit-learn albumentations nltk"
   ]
  },
  {
   "cell_type": "code",
   "execution_count": 2,
   "metadata": {},
   "outputs": [
    {
     "name": "stderr",
     "output_type": "stream",
     "text": [
      "Failed to detect the name of this notebook, you can set it manually with the WANDB_NOTEBOOK_NAME environment variable to enable code saving.\n",
      "\u001b[34m\u001b[1mwandb\u001b[0m: Currently logged in as: \u001b[33malexlaconca\u001b[0m (\u001b[33mcalonca\u001b[0m). Use \u001b[1m`wandb login --relogin`\u001b[0m to force relogin\n"
     ]
    },
    {
     "data": {
      "text/html": [
       "Tracking run with wandb version 0.15.7"
      ],
      "text/plain": [
       "<IPython.core.display.HTML object>"
      ]
     },
     "metadata": {},
     "output_type": "display_data"
    },
    {
     "data": {
      "text/html": [
       "Run data is saved locally in <code>/home/ale/Documents/University_arc/University/MSc/Transformers/project/wandb/run-20230730_214134-yb0t6bni</code>"
      ],
      "text/plain": [
       "<IPython.core.display.HTML object>"
      ]
     },
     "metadata": {},
     "output_type": "display_data"
    },
    {
     "data": {
      "text/html": [
       "Syncing run <strong><a href='https://wandb.ai/calonca/clip/runs/yb0t6bni' target=\"_blank\">dataset_download</a></strong> to <a href='https://wandb.ai/calonca/clip' target=\"_blank\">Weights & Biases</a> (<a href='https://wandb.me/run' target=\"_blank\">docs</a>)<br/>"
      ],
      "text/plain": [
       "<IPython.core.display.HTML object>"
      ]
     },
     "metadata": {},
     "output_type": "display_data"
    },
    {
     "data": {
      "text/html": [
       " View project at <a href='https://wandb.ai/calonca/clip' target=\"_blank\">https://wandb.ai/calonca/clip</a>"
      ],
      "text/plain": [
       "<IPython.core.display.HTML object>"
      ]
     },
     "metadata": {},
     "output_type": "display_data"
    },
    {
     "data": {
      "text/html": [
       " View run at <a href='https://wandb.ai/calonca/clip/runs/yb0t6bni' target=\"_blank\">https://wandb.ai/calonca/clip/runs/yb0t6bni</a>"
      ],
      "text/plain": [
       "<IPython.core.display.HTML object>"
      ]
     },
     "metadata": {},
     "output_type": "display_data"
    }
   ],
   "source": [
    "import wandb\n",
    "import os\n",
    "import shutil\n",
    "run = wandb.init(project=\"clip\",\n",
    "           entity='calonca',\n",
    "           name='dataset_download',\n",
    "           )"
   ]
  },
  {
   "cell_type": "code",
   "execution_count": 3,
   "metadata": {},
   "outputs": [
    {
     "name": "stderr",
     "output_type": "stream",
     "text": [
      "\u001b[34m\u001b[1mwandb\u001b[0m: Downloading large artifact dataset:v0, 243.32MB. 1 files... \n",
      "\u001b[34m\u001b[1mwandb\u001b[0m:   1 of 1 files downloaded.  \n",
      "Done. 0:0:0.8\n"
     ]
    },
    {
     "data": {
      "text/plain": [
       "'dataset/resized_train.zip'"
      ]
     },
     "execution_count": 3,
     "metadata": {},
     "output_type": "execute_result"
    }
   ],
   "source": [
    "artifact = run.use_artifact('calonca/clip/dataset:v0')\n",
    "artifact_dir = artifact.download()\n",
    "shutil.move(os.path.join(artifact_dir,'resized_train.zip'),os.path.join('dataset','resized_train.zip'))"
   ]
  },
  {
   "cell_type": "code",
   "execution_count": 4,
   "metadata": {},
   "outputs": [
    {
     "data": {
      "application/vnd.jupyter.widget-view+json": {
       "model_id": "bbfdfa7580bd42daa625ca031494ef82",
       "version_major": 2,
       "version_minor": 0
      },
      "text/plain": [
       "Extracting :   0%|          | 0/83276 [00:00<?, ?it/s]"
      ]
     },
     "metadata": {},
     "output_type": "display_data"
    }
   ],
   "source": [
    "# Extract images\n",
    "import zipfile\n",
    "from tqdm import tqdm\n",
    "zip_dataset_location = os.path.join('dataset', 'resized_train.zip')\n",
    "dataset_extract_location = \"dataset\"\n",
    "\n",
    "\n",
    "with zipfile.ZipFile(zip_dataset_location) as zf:\n",
    "  for member in tqdm(zf.infolist(), desc='Extracting '):\n",
    "    try:\n",
    "        zf.extract(member, dataset_extract_location)\n",
    "    except zipfile.error as e:\n",
    "        pass"
   ]
  }
 ],
 "metadata": {
  "kernelspec": {
   "display_name": "tf",
   "language": "python",
   "name": "python3"
  },
  "language_info": {
   "codemirror_mode": {
    "name": "ipython",
    "version": 3
   },
   "file_extension": ".py",
   "mimetype": "text/x-python",
   "name": "python",
   "nbconvert_exporter": "python",
   "pygments_lexer": "ipython3",
   "version": "3.11.3"
  },
  "orig_nbformat": 4
 },
 "nbformat": 4,
 "nbformat_minor": 2
}
